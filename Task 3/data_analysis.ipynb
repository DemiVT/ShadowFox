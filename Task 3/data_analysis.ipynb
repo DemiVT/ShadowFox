# Import necessary libraries
import pandas as pd
import matplotlib.pyplot as plt
import seaborn as sns

# Load dataset
df = pd.read_csv('your_dataset.csv')  # Replace with your dataset file

# Display basic information
print(df.head())
print(df.describe())

# Example Visualization
sns.histplot(df['column_of_interest'])  # Replace 'column_of_interest' with an actual column name
plt.title('Histogram of Column')
plt.xlabel('Column')
plt.ylabel('Frequency')
plt.show()

# Additional analyses
# Example: correlation matrix
correlation_matrix = df.corr()
sns.heatmap(correlation_matrix, annot=True, cmap='coolwarm')
plt.title('Correlation Matrix')
plt.show()
