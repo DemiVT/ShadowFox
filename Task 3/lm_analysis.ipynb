from transformers import pipeline

# Load the model
model = pipeline('text-generation', model='gpt-3.5-turbo')

# Generate text
text = model("Once upon a time,")[0]['generated_text']
print(text)

# Example of exploring capabilities
input_text = "What is the meaning of life?"
response = model(input_text)
print("Response:", response[0]['generated_text'])
